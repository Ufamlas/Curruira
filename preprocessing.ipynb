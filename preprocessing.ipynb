{
 "cells": [
  {
   "cell_type": "code",
   "execution_count": 1,
   "metadata": {},
   "outputs": [],
   "source": [
    "import os\n",
    "import librosa\n",
    "import soundfile as sf\n",
    "import numpy as np\n",
    "import matplotlib.pyplot as plt\n",
    "from tqdm.notebook import tqdm\n",
    "from python_speech_features.base import fbank"
   ]
  },
  {
   "cell_type": "code",
   "execution_count": 2,
   "metadata": {},
   "outputs": [
    {
     "data": {
      "application/vnd.jupyter.widget-view+json": {
       "model_id": "fff9cb860fee4788bcb9ce84de96737c",
       "version_major": 2,
       "version_minor": 0
      },
      "text/plain": [
       "  0%|          | 0/889 [00:00<?, ?it/s]"
      ]
     },
     "metadata": {},
     "output_type": "display_data"
    }
   ],
   "source": [
    "# folder path\n",
    "dir_path_in = './wav'\n",
    "dir_path_out = './wav_22k'\n",
    "\n",
    "# Iterate directory\n",
    "for path in tqdm(os.listdir(dir_path_in)):\n",
    "    # check if current path is a file\n",
    "    file = os.path.join(dir_path_in, path)\n",
    "    if os.path.isfile(file):\n",
    "        y, sr = librosa.load(file, sr=22050, duration=2) # Downsample 44.1kHz to 22.050kHz\n",
    "        sf.write(os.path.join(dir_path_out, path), y, sr) # saving .wav file"
   ]
  },
  {
   "cell_type": "code",
   "execution_count": 3,
   "metadata": {},
   "outputs": [
    {
     "data": {
      "application/vnd.jupyter.widget-view+json": {
       "model_id": "9837d251ccee4248adb484500555c81b",
       "version_major": 2,
       "version_minor": 0
      },
      "text/plain": [
       "  0%|          | 0/21 [00:00<?, ?it/s]"
      ]
     },
     "metadata": {},
     "output_type": "display_data"
    }
   ],
   "source": [
    "# folder path\n",
    "dir_path_in = './Background_noise'\n",
    "dir_path_out = './Background_noise_22k'\n",
    "\n",
    "# Iterate directory\n",
    "for path in tqdm(os.listdir(dir_path_in)):\n",
    "    # check if current path is a file\n",
    "    file = os.path.join(dir_path_in, path)\n",
    "    if os.path.isfile(file):\n",
    "        y, sr = librosa.load(file, sr=22050, duration=2) # Downsample 44.1kHz to 22.050kHz\n",
    "        sf.write(os.path.join(dir_path_out, path), y, sr) # saving .wav file"
   ]
  }
 ],
 "metadata": {
  "kernelspec": {
   "display_name": "base",
   "language": "python",
   "name": "python3"
  },
  "language_info": {
   "codemirror_mode": {
    "name": "ipython",
    "version": 3
   },
   "file_extension": ".py",
   "mimetype": "text/x-python",
   "name": "python",
   "nbconvert_exporter": "python",
   "pygments_lexer": "ipython3",
   "version": "3.9.16"
  },
  "orig_nbformat": 4
 },
 "nbformat": 4,
 "nbformat_minor": 2
}
